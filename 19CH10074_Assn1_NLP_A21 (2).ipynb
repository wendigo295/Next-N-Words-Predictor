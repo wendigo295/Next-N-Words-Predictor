{
  "nbformat": 4,
  "nbformat_minor": 0,
  "metadata": {
    "colab": {
      "name": "19CH10074_Assn1_NLP_A21.ipynb",
      "provenance": [],
      "collapsed_sections": []
    },
    "kernelspec": {
      "name": "python3",
      "display_name": "Python 3"
    },
    "language_info": {
      "name": "python"
    }
  },
  "cells": [
    {
      "cell_type": "markdown",
      "metadata": {
        "id": "4Z_wN2v1RT1F"
      },
      "source": [
        "# **Assignment-1 for CS60075: Natural Language Processing**\n",
        "\n",
        "#### Instructor : Prof. Sudeshna Sarkar\n",
        "\n",
        "#### Teaching Assistants : Alapan Kuila, Aniruddha Roy, Prithwish Jana, Udit Dharmin Desai\n",
        "\n",
        "#### Date of Announcement: 4th Sept, 2021\n",
        "#### Deadline for Submission: 11.59pm on Sunday, 12th Sept, 2021 \n",
        "\n",
        "#### (**NOTE**: Submit a .zip file, containing this .ipynb file, named as `<Your_Roll_Number>_Assn1_NLP_A21.ipynb` and the raw text corpus named `<Your_Roll_Number>_Assn1_rawCorpus.txt`. For example, if your roll number is 20XX12Y45, name the .ipynb file as `20XX12Y45_Assn1_NLP_A21.ipynb`. Name the .zip as `<Your_Roll_Number>_Assn1_NLP_A21.zip`. Write your code in the respective designated portion of the .ipynb. Also before submitting, make sure that all the outputs of your code are present in the .ipynb file itself.)"
      ]
    },
    {
      "cell_type": "markdown",
      "metadata": {
        "id": "3a35tmEySCx7"
      },
      "source": [
        "### **Submission Details:**\n",
        "Name: Gaurav Jha\n",
        "\n",
        "Roll No.: 19CH10074\n",
        "\n",
        "Department: Chemical Engineering\n",
        "\n",
        "Email-ID: gauravjha.slg719@gmail.com"
      ]
    },
    {
      "cell_type": "markdown",
      "metadata": {
        "id": "9weHMmyd8fnq"
      },
      "source": [
        "## **Reading a Raw Text Corpus**"
      ]
    },
    {
      "cell_type": "markdown",
      "metadata": {
        "id": "DmSy_LOK2aGQ"
      },
      "source": [
        "Retrieve & save raw corpus"
      ]
    },
    {
      "cell_type": "code",
      "metadata": {
        "id": "rku6rV2ORpZA"
      },
      "source": [
        "# To construct your corpus, retrieve (through Python code) Chapter I to Chapter X,\n",
        "# both inclusive, from the link below:\n",
        "# \"https://www.gutenberg.org/files/730/730-0.txt\"\n",
        "# Save this corpus in a text file, named as 'rawCorpus.txt'\n",
        "# Print the total number of characters in the text file \n",
        "\n",
        "# *** Write code ***\n",
        "import requests\n",
        "from bs4 import BeautifulSoup\n",
        "import string\n",
        "\n",
        "url = \"https://www.gutenberg.org/files/730/730-0.txt\"\n",
        "r = requests.get(url)\n",
        "raw_text = r.content\n",
        "raw_text = BeautifulSoup(raw_text,'html.parser')\n",
        "\n",
        "paragraph = []\n",
        "\n",
        "for x in raw_text:\n",
        "    paragraph.append(str(x))\n",
        "\n",
        "b = \"\".join(paragraph)   \n",
        "\n",
        "b = b[b.find(\"CHAPTER I.\") + len(\"CHAPTER I.\"):b.find(\"CHAPTER XI.\")]\n",
        "\n",
        "''' print(b) '''\n",
        "\n",
        "file1 = open(\"19CH10074_Assn1_rawCorpus.txt\",\"w\")\n",
        "\n",
        "file1.write(b)\n",
        "\n",
        "file1.close()\n",
        "\n"
      ],
      "execution_count": null,
      "outputs": []
    },
    {
      "cell_type": "markdown",
      "metadata": {
        "id": "6KZIOy0Y2hzQ"
      },
      "source": [
        "Read the corpus"
      ]
    },
    {
      "cell_type": "code",
      "metadata": {
        "id": "DsdBJa_l2l7g",
        "colab": {
          "base_uri": "https://localhost:8080/"
        },
        "outputId": "9c7d0ce9-3537-4c5e-ca3d-fbaf5b0cc94b"
      },
      "source": [
        "# Read the corpus from rawCorpus.txt, in a variable `rawReadCorpus`\n",
        "# *** Write code ***\n",
        "file1 = open(\"19CH10074_Assn1_rawCorpus.txt\",\"r\")\n",
        "rawReadCorpus = file1.read()\n",
        "file1.close()\n",
        "print (\"Total # of characters in read dataset: {}\".format(len(rawReadCorpus)))"
      ],
      "execution_count": null,
      "outputs": [
        {
          "output_type": "stream",
          "name": "stdout",
          "text": [
            "Total # of characters in read dataset: 148707\n"
          ]
        }
      ]
    },
    {
      "cell_type": "markdown",
      "metadata": {
        "id": "xhkmGsSoV0zG"
      },
      "source": [
        "## **Installing NLTK**\n",
        "\n",
        "The Natural Language Toolkit ([NLTK](https://www.nltk.org/)) is a Python module that is intended to support research and teaching in NLP or closely related areas. \n",
        "\n",
        "Detailed installation instructions to install NLTK can be found at this [link](https://www.nltk.org/install.html).\n",
        "\n",
        "To ensure uniformity, we suggest to use **python3**. You can download Anaconda3 and create a separate environment to do this assignment, eg.\n",
        "```bash\n",
        "conda create -n myenv python=3.6\n",
        "conda activate myenv\n",
        "```\n",
        "\n",
        "The link to anaconda3 for Windows and Linux is available here https://docs.anaconda.com/anaconda/install/. Subsequently, you can install NLTK through the following commands:\n",
        "```bash\n",
        "sudo pip3 install nltk \n",
        "python3 \n",
        "nltk.download()\n",
        "```"
      ]
    },
    {
      "cell_type": "markdown",
      "metadata": {
        "id": "utKtZeHq4N98"
      },
      "source": [
        "## **Preprocessing the corpus**"
      ]
    },
    {
      "cell_type": "markdown",
      "metadata": {
        "id": "5-LSUX__82Ff"
      },
      "source": [
        "**Tokenize into words and sentences, using NLTK library:** Using the NLTK modules imported above, retrieve a case-insensitive preprocessed model. Make sure to take care of words like \"\\_will\\_\" (that should ideally appear as \"will\"), \"wouldn't\" (that should ideally appear as a single word, and not multiple tokens) and other occurences of special cases that you find in the raw corpus. "
      ]
    },
    {
      "cell_type": "code",
      "metadata": {
        "id": "2g7eO4Dm4jIn",
        "colab": {
          "base_uri": "https://localhost:8080/"
        },
        "outputId": "cafcb4e5-7988-4acd-e17c-5d56ba6256e3"
      },
      "source": [
        "# Importing modules\n",
        "import nltk\n",
        "nltk.download('punkt') # For tokenizers\n",
        "from nltk.tokenize import word_tokenize,sent_tokenize"
      ],
      "execution_count": null,
      "outputs": [
        {
          "output_type": "stream",
          "name": "stdout",
          "text": [
            "[nltk_data] Downloading package punkt to /root/nltk_data...\n",
            "[nltk_data]   Unzipping tokenizers/punkt.zip.\n"
          ]
        }
      ]
    },
    {
      "cell_type": "code",
      "metadata": {
        "id": "cWIzYXyz9Zt_",
        "colab": {
          "base_uri": "https://localhost:8080/"
        },
        "outputId": "1c4c2f26-bacb-46c4-8a44-d22f407e8253"
      },
      "source": [
        "# *** Write code for preprocessing the corpus ***\n",
        "\n",
        "import regex as re\n",
        "\n",
        "def preprocess(raw_corpus):\n",
        "\n",
        "    txt = raw_corpus.lower()\n",
        "\n",
        "    txt = txt.strip(\" \")\n",
        "\n",
        "    txt = re.sub(pattern = r'\\s+',repl = \" \",string = txt)\n",
        "\n",
        "    txt = re.sub('[^a-zA-Z\\.\\,\\'\\?]',' ',txt)\n",
        "\n",
        "    txt = re.sub(r'\\n', \" \", txt)\n",
        "    txt = re.sub(r'\\n\\n',\" \",txt)\n",
        "\n",
        "    word_tokens = word_tokenize(txt)\n",
        "\n",
        "    sentence_tokens = sent_tokenize(txt)\n",
        "\n",
        "    return word_tokens, sentence_tokens\n",
        "\n",
        "word_tokens, sentence_tokens= preprocess(rawReadCorpus)\n",
        "\n",
        "\n",
        "# Print first 5 sentences of your preprocessed corpus *** Write code ***\n",
        "\n",
        "print(\"The first 5 sentences of the preprocessed corpus are:\")\n",
        "\n",
        "\n",
        "for i in range(5):\n",
        "    print(\"Sentence \" + str(i+1) + \" : \" + sentence_tokens[i])\n",
        "print()\n",
        "\n",
        "# Print first 5 words/tokens of your preprocessed corpus *** Write code ***\n",
        "print(\"The first 5 words of the preprocessed corpus are as follows:\")\n",
        "\n",
        "for i in range(5):\n",
        "    print(\"Word \" + str(i+1) + \" : \" + word_tokens[i])"
      ],
      "execution_count": null,
      "outputs": [
        {
          "output_type": "stream",
          "name": "stdout",
          "text": [
            "The first 5 sentences of the preprocessed corpus are:\n",
            "Sentence 1 :  treats of the place where oliver twist was born and of the circumstances attending his birth among other public buildings in a certain town, which for many reasons it will be prudent to refrain from mentioning, and to which i will assign no fictitious name, there is one anciently common to most towns, great or small  to wit, a workhouse  and in this workhouse was born  on a day and date which i need not trouble myself to repeat, inasmuch as it can be of no possible consequence to the reader, in this stage of the business at all events  the item of mortality whose name is prefixed to the head of this chapter.\n",
            "Sentence 2 : for a long time after it was ushered into this world of sorrow and trouble, by the parish surgeon, it remained a matter of considerable doubt whether the child would survive to bear any name at all  in which case it is somewhat more than probable that these memoirs would never have appeared  or, if they had, that being comprised within a couple of pages, they would have possessed the inestimable merit of being the most concise and faithful specimen of biography, extant in the literature of any age or country.\n",
            "Sentence 3 : although i am not disposed to maintain that the being born in a workhouse, is in itself the most fortunate and enviable circumstance that can possibly befall a human being, i do mean to say that in this particular instance, it was the best thing for oliver twist that could by possibility have occurred.\n",
            "Sentence 4 : the fact is, that there was considerable difficulty in inducing oliver to take upon himself the office of respiration, a troublesome practice, but one which custom has rendered necessary to our easy existence  and for some time he lay gasping on a little flock mattress, rather unequally poised between this world and the next  the balance being decidedly in favour of the latter.\n",
            "Sentence 5 : now, if, during this brief period, oliver had been surrounded by careful grandmothers, anxious aunts, experienced nurses, and doctors of profound wisdom, he would most inevitably and indubitably have been killed in no time.\n",
            "\n",
            "The first 5 words of the preprocessed corpus are as follows:\n",
            "Word 1 : treats\n",
            "Word 2 : of\n",
            "Word 3 : the\n",
            "Word 4 : place\n",
            "Word 5 : where\n"
          ]
        }
      ]
    },
    {
      "cell_type": "markdown",
      "metadata": {
        "id": "eZ75_a1QL70J"
      },
      "source": [
        "**Perform the following tasks for the given corpus:**\n",
        "1. Print the average number of tokens per sentence.\n",
        "2. Print the length of the longest and the shortest sentence, that contains the word 'Oliver' ('Oliver' is case-insensitive).\n",
        "3. Print the number of unique tokens in the corpus, after stopword removal using the stopwords from NLTK (case-insensitive)."
      ]
    },
    {
      "cell_type": "code",
      "metadata": {
        "id": "pyG0g3oSADmV",
        "colab": {
          "base_uri": "https://localhost:8080/"
        },
        "outputId": "a9e35f03-b682-4eac-d343-846200621518"
      },
      "source": [
        "# Importing modules\n",
        "nltk.download('stopwords')\n",
        "from nltk.corpus import stopwords"
      ],
      "execution_count": null,
      "outputs": [
        {
          "output_type": "stream",
          "name": "stdout",
          "text": [
            "[nltk_data] Downloading package stopwords to /root/nltk_data...\n",
            "[nltk_data]   Unzipping corpora/stopwords.zip.\n"
          ]
        }
      ]
    },
    {
      "cell_type": "code",
      "metadata": {
        "id": "ydHIxC7lG7Py",
        "colab": {
          "base_uri": "https://localhost:8080/"
        },
        "outputId": "6b7d5126-884f-41ba-f3aa-492396790005"
      },
      "source": [
        "# *** Write code for the 2 tasks above ***\n",
        "\n",
        "def avg_per_sent(sentences):\n",
        "    counts = (len(nltk.word_tokenize(sentence)) for sentence in sentences)\n",
        "    return sum(counts)/float(len(sentences))\n",
        "\n",
        "\n",
        "def longest_shortest_sent(sentences):\n",
        "    max_len_sent = 0\n",
        "    max_len_char = 0\n",
        "    min_len_sent = 100000000\n",
        "    min_len_char = 100000000\n",
        "\n",
        "    for sentence in sentences:\n",
        "        sentence_word_tokens = [word for word in word_tokenize(sentence)]\n",
        "\n",
        "        if(\"oliver\" in sentence_word_tokens):\n",
        "            if(len(sentence_word_tokens) > max_len_sent):\n",
        "                max_len_sent = len(sentence_word_tokens)\n",
        "                max_len_char = len(sentence)\n",
        "            if(len(sentence_word_tokens) < min_len_sent):\n",
        "                min_len_sent = len(sentence_word_tokens)\n",
        "                min_len_char = len(sentence)\n",
        "    return max_len_sent, max_len_char, min_len_sent, min_len_char\n",
        "\n",
        "\n",
        "avg_tok_sent = avg_per_sent(sentence_tokens)\n",
        "print(\"The average number of tokens per sentences: {:.2f}\".format(avg_tok_sent))\n",
        "print()\n",
        "\n",
        "max_len_sent_word_cnt, max_len_sent_char_cnt, min_len_sent_word_cnt, min_len_sent_char_cnt = longest_shortest_sent(sentence_tokens)\n",
        "print(\"The lenght of the longest sentence that contains the word 'Oliver'(case-insensitive) is: \" + str(max_len_sent_word_cnt) + \" words \" + str(max_len_sent_char_cnt) + \" characters\" )\n",
        "print(\"The lenght of the shortest sentence that contains the word 'Oliver'(case-insensitive) is: \" + str(min_len_sent_word_cnt) + \" words \" + str(min_len_sent_char_cnt) + \" characters\" )\n",
        "print()\n",
        "\n",
        "stop_words = set(stopwords.words('english'))\n",
        "\n",
        "filtered_sentence = []\n",
        "\n",
        "for w in word_tokens:\n",
        "    if w not in stop_words:\n",
        "        filtered_sentence.append(w)\n",
        "unique_tokens = set(filtered_sentence)\n",
        "\n",
        "print(\"The number of unique tokens in the corpus after the removal using stopwords is : \", len(unique_tokens))"
      ],
      "execution_count": null,
      "outputs": [
        {
          "output_type": "stream",
          "name": "stdout",
          "text": [
            "The average number of tokens per sentences: 25.81\n",
            "\n",
            "The lenght of the longest sentence that contains the word 'Oliver'(case-insensitive) is: 122 words 616 characters\n",
            "The lenght of the shortest sentence that contains the word 'Oliver'(case-insensitive) is: 3 words 16 characters\n",
            "\n",
            "The number of unique tokens in the corpus after the removal using stopwords is :  3989\n"
          ]
        }
      ]
    },
    {
      "cell_type": "code",
      "metadata": {
        "colab": {
          "base_uri": "https://localhost:8080/"
        },
        "id": "UEmXvtcXB596",
        "outputId": "da275c9e-a5f1-4f08-a9ed-1e4d58292f48"
      },
      "source": [
        ""
      ],
      "execution_count": null,
      "outputs": [
        {
          "output_type": "execute_result",
          "data": {
            "text/plain": [
              "list"
            ]
          },
          "metadata": {},
          "execution_count": 59
        }
      ]
    },
    {
      "cell_type": "markdown",
      "metadata": {
        "id": "SjO5HnUBndig"
      },
      "source": [
        ""
      ]
    },
    {
      "cell_type": "markdown",
      "metadata": {
        "id": "X5RiDR7TJjKX"
      },
      "source": [
        "## **Language Modeling**"
      ]
    },
    {
      "cell_type": "markdown",
      "metadata": {
        "id": "UJeTSt8HM95L"
      },
      "source": [
        "### Task: In this sub-task, you are expected to carry out the following tasks:\n",
        "\n",
        "1. **Create the following language models** on the given corpus: <br>\n",
        "    i.   Unigram <br>\n",
        "    ii.  Bigram <br>\n",
        "    iii. Trigram <br>\n",
        "\n",
        "2. **List the top 10 bigrams, trigrams**\n",
        "(Additionally remove those items which contain only articles, prepositions, determiners eg. \"of the\", \"in a\", etc. List top-10 bigrams/trigrams in both the original and processed models)."
      ]
    },
    {
      "cell_type": "code",
      "metadata": {
        "id": "DlPXGvVaR-ka",
        "colab": {
          "base_uri": "https://localhost:8080/"
        },
        "outputId": "2b097ce2-4d21-45bd-a2a7-ef7bfb788b5e"
      },
      "source": [
        "from nltk.util import ngrams\n",
        "unigrams=[]\n",
        "bigrams=[]\n",
        "trigrams=[]\n",
        "\n",
        "for content in sentence_tokens: # *** Write code ***\n",
        "    word = word_tokenize(content)\n",
        "\n",
        "    unigrams.extend(word)\n",
        "    bigrams.extend(ngrams(word,2))\n",
        "    ##similar for trigrams \n",
        "    # *** Write code ***\n",
        "    trigrams.extend(ngrams(word,3))\n",
        "\n",
        "print (\"Sample of n-grams:\\n\" + \"-------------------------\")\n",
        "print (\"--> UNIGRAMS: \\n\" + str(unigrams[:5]) + \" ...\\n\")\n",
        "print (\"--> BIGRAMS: \\n\" + str(bigrams[:5]) + \" ...\\n\")\n",
        "print (\"--> TRIGRAMS: \\n\" + str(trigrams[:5]) + \" ...\\n\")\n",
        "\n",
        "# list of unigram, bigram & trigram after removing those that \n",
        "# totally contain only articles, prepositions, determiners\n",
        "# Eg. For bigrams, don't remove items like (\"a\", \"boy\") --> where not all are \n",
        "#     articles, prepositions, determiners\n",
        "#     But remove items like (\"in\", \"the\") --> where all are articles, prepositions, determiners\n",
        "# Similarly, for unigrams and trigrams\n",
        "\n",
        "\n",
        "unigrams_Processed = [gram for gram in unigrams if gram not in stop_words]  \n",
        "bigrams_Processed =  [gram for gram in bigrams if(any(i not in stop_words for i in gram))]\n",
        "trigrams_Processed = [gram for gram in trigrams if(any(i not in stop_words for i in gram))]\n",
        "\n",
        "print (\"Sample of n-grams after processing:\\n\" + \"-------------------------\")\n",
        "print (\"--> UNIGRAMS: \\n\" + str(unigrams_Processed[:5]) + \" ...\\n\")\n",
        "print (\"--> BIGRAMS: \\n\" + str(bigrams_Processed[:5]) + \" ...\\n\")\n",
        "print (\"--> TRIGRAMS: \\n\" + str(trigrams_Processed[:5]) + \" ...\\n\")\n",
        "\n",
        "def get_ngrams_freqDist(n, ngramList):\n",
        "    #This function computes the frequency corresponding to each ngram in ngramList \n",
        "    #Here, n=1 for unigram, n=2 for bigram, etc.\n",
        "    #ngramList = list of unigrams when n=1, ngramList = list of bigrams when n=2\n",
        "    #Returns: ngram_freq_dict (a Python dictionary where key = a ngram, value = its frequency)\n",
        "    \n",
        "    # *** Write code ***\n",
        "    ngram_freq_dict = {}\n",
        "\n",
        "    for i in ngramList:\n",
        "        if i in ngram_freq_dict:\n",
        "            ngram_freq_dict[i] +=1\n",
        "        else:\n",
        "            ngram_freq_dict[i] = 1\n",
        "    \n",
        "    return ngram_freq_dict\n",
        "\n",
        "unigrams_freqDist = get_ngrams_freqDist(1, unigrams)\n",
        "unigrams_Processed_freqDist = get_ngrams_freqDist(1, unigrams_Processed)\n",
        "bigrams_freqDist = get_ngrams_freqDist(2, bigrams_Processed)\n",
        "bigrams_Processed_freqDist = get_ngrams_freqDist(2, bigrams_Processed)\n",
        "trigrams_freqDist = get_ngrams_freqDist(3, trigrams_Processed)\n",
        "trigrams_Processed_freqDist = get_ngrams_freqDist(3, trigrams_Processed)                                                 \n",
        "\n",
        "def print_top_10(text,freqDist):\n",
        "\n",
        "    print()\n",
        "    sorted_dict = sorted(freqDist.items(), key = lambda x: x[1], reverse = True)\n",
        "\n",
        "    cnt = 1\n",
        "    print(text)\n",
        "\n",
        "    for item in sorted_dict:\n",
        "        print(\"Rank \" + str(cnt) + \"--->\" + str(item[0]) + \" --->with value---> \" + str(item[1]))\n",
        "        cnt += 1\n",
        "        if(cnt > 10):\n",
        "            break\n",
        "    print()       \n",
        "\n",
        "# Print top 10 unigrams, having highest frequency as in unigrams_freqDist\n",
        "# *** Write code ***\n",
        "print_top_10(\"Unigrams\",unigrams_freqDist)\n",
        "\n",
        "# Print top 10 unigrams, having highest frequency as in unigrams_Processed_freqDist\n",
        "# *** Write code ***\n",
        "print_top_10(\"Preprocessed unigrams\",unigrams_Processed_freqDist)\n",
        "\n",
        "# Print top 10 bigrams, having highest frequency as in bigrams_freqDist\n",
        "# *** Write code ***\n",
        "print_top_10(\"bigrams\", bigrams_freqDist)\n",
        "\n",
        "# Print top 10 bigrams, having highest frequency as in bigrams_Processed_freqDist\n",
        "print_top_10(\"Preprocessed bigrams\",bigrams_Processed_freqDist)\n",
        "\n",
        "# Print top 10 trigrams, having highest frequency as in trigrams_freqDist\n",
        "# *** Write code ***\n",
        "print_top_10(\"trigrams\", trigrams_freqDist)\n",
        "\n",
        "# Print top 10 trigrams, having highest frequency as in trigrams_Processed_freqDist\n",
        "# *** Write code ***\n",
        "print_top_10(\"Preprocessed trigrams\",trigrams_Processed_freqDist)"
      ],
      "execution_count": null,
      "outputs": [
        {
          "output_type": "stream",
          "name": "stdout",
          "text": [
            "Sample of n-grams:\n",
            "-------------------------\n",
            "--> UNIGRAMS: \n",
            "['treats', 'of', 'the', 'place', 'where'] ...\n",
            "\n",
            "--> BIGRAMS: \n",
            "[('treats', 'of'), ('of', 'the'), ('the', 'place'), ('place', 'where'), ('where', 'oliver')] ...\n",
            "\n",
            "--> TRIGRAMS: \n",
            "[('treats', 'of', 'the'), ('of', 'the', 'place'), ('the', 'place', 'where'), ('place', 'where', 'oliver'), ('where', 'oliver', 'twist')] ...\n",
            "\n",
            "Sample of n-grams after processing:\n",
            "-------------------------\n",
            "--> UNIGRAMS: \n",
            "['treats', 'place', 'oliver', 'twist', 'born'] ...\n",
            "\n",
            "--> BIGRAMS: \n",
            "[('treats', 'of'), ('the', 'place'), ('place', 'where'), ('where', 'oliver'), ('oliver', 'twist')] ...\n",
            "\n",
            "--> TRIGRAMS: \n",
            "[('treats', 'of', 'the'), ('of', 'the', 'place'), ('the', 'place', 'where'), ('place', 'where', 'oliver'), ('where', 'oliver', 'twist')] ...\n",
            "\n",
            "\n",
            "Unigrams\n",
            "Rank 1--->, --->with value---> 2543\n",
            "Rank 2--->the --->with value---> 1709\n",
            "Rank 3--->. --->with value---> 1067\n",
            "Rank 4--->and --->with value---> 868\n",
            "Rank 5--->a --->with value---> 721\n",
            "Rank 6--->of --->with value---> 674\n",
            "Rank 7--->to --->with value---> 626\n",
            "Rank 8--->he --->with value---> 469\n",
            "Rank 9--->his --->with value---> 455\n",
            "Rank 10--->in --->with value---> 445\n",
            "\n",
            "\n",
            "Preprocessed unigrams\n",
            "Rank 1--->, --->with value---> 2543\n",
            "Rank 2--->. --->with value---> 1067\n",
            "Rank 3--->oliver --->with value---> 308\n",
            "Rank 4--->said --->with value---> 212\n",
            "Rank 5--->mr. --->with value---> 190\n",
            "Rank 6--->bumble --->with value---> 134\n",
            "Rank 7--->? --->with value---> 117\n",
            "Rank 8--->gentleman --->with value---> 108\n",
            "Rank 9--->boy --->with value---> 92\n",
            "Rank 10--->old --->with value---> 89\n",
            "\n",
            "\n",
            "bigrams\n",
            "Rank 1--->(',', 'and') --->with value---> 340\n",
            "Rank 2--->(',', 'said') --->with value---> 119\n",
            "Rank 3--->('mr.', 'bumble') --->with value---> 118\n",
            "Rank 4--->(',', 'he') --->with value---> 90\n",
            "Rank 5--->('said', 'the') --->with value---> 90\n",
            "Rank 6--->(',', 'that') --->with value---> 69\n",
            "Rank 7--->(',', 'sir') --->with value---> 68\n",
            "Rank 8--->(',', 'in') --->with value---> 67\n",
            "Rank 9--->(',', 'as') --->with value---> 64\n",
            "Rank 10--->(',', 'with') --->with value---> 62\n",
            "\n",
            "\n",
            "Preprocessed bigrams\n",
            "Rank 1--->(',', 'and') --->with value---> 340\n",
            "Rank 2--->(',', 'said') --->with value---> 119\n",
            "Rank 3--->('mr.', 'bumble') --->with value---> 118\n",
            "Rank 4--->(',', 'he') --->with value---> 90\n",
            "Rank 5--->('said', 'the') --->with value---> 90\n",
            "Rank 6--->(',', 'that') --->with value---> 69\n",
            "Rank 7--->(',', 'sir') --->with value---> 68\n",
            "Rank 8--->(',', 'in') --->with value---> 67\n",
            "Rank 9--->(',', 'as') --->with value---> 64\n",
            "Rank 10--->(',', 'with') --->with value---> 62\n",
            "\n",
            "\n",
            "trigrams\n",
            "Rank 1--->(',', 'said', 'the') --->with value---> 56\n",
            "Rank 2--->('mr.', 'bumble', ',') --->with value---> 38\n",
            "Rank 3--->(',', 'sir', ',') --->with value---> 35\n",
            "Rank 4--->('the', 'old', 'gentleman') --->with value---> 33\n",
            "Rank 5--->(',', 'my', 'dear') --->with value---> 28\n",
            "Rank 6--->(',', 'and', 'the') --->with value---> 24\n",
            "Rank 7--->(',', 'mr.', 'bumble') --->with value---> 24\n",
            "Rank 8--->(',', 'said', 'mr.') --->with value---> 22\n",
            "Rank 9--->('gentleman', 'in', 'the') --->with value---> 22\n",
            "Rank 10--->(',', 'with', 'a') --->with value---> 21\n",
            "\n",
            "\n",
            "Preprocessed trigrams\n",
            "Rank 1--->(',', 'said', 'the') --->with value---> 56\n",
            "Rank 2--->('mr.', 'bumble', ',') --->with value---> 38\n",
            "Rank 3--->(',', 'sir', ',') --->with value---> 35\n",
            "Rank 4--->('the', 'old', 'gentleman') --->with value---> 33\n",
            "Rank 5--->(',', 'my', 'dear') --->with value---> 28\n",
            "Rank 6--->(',', 'and', 'the') --->with value---> 24\n",
            "Rank 7--->(',', 'mr.', 'bumble') --->with value---> 24\n",
            "Rank 8--->(',', 'said', 'mr.') --->with value---> 22\n",
            "Rank 9--->('gentleman', 'in', 'the') --->with value---> 22\n",
            "Rank 10--->(',', 'with', 'a') --->with value---> 21\n",
            "\n"
          ]
        }
      ]
    },
    {
      "cell_type": "markdown",
      "metadata": {
        "id": "Lqu8nVV7NREo"
      },
      "source": [
        "## **Next three words' Prediction using Smoothed Models**"
      ]
    },
    {
      "cell_type": "markdown",
      "metadata": {
        "id": "a2vnIM26b2WA"
      },
      "source": [
        "For a bigram model, add-one smoothing is defined by $P_{Add-1}(w_i|w_{i-1})=\\frac{count(w_{i-1},w_i)+1}{count(w_{i-1})+V}$.\n",
        "That is, pretend we saw each word one more time than we did.\n",
        "\n",
        "You have two tasks here.\n",
        "\n",
        "First, compute the smoothed bigram and trigram models from the bigrams_freqDist and trigrams_freqDist you calculated above (use the unprocessed models). Second, using these smoothed models, predict the next 3 possible word sequences for testSent1, testSent2 and testSent3, using your smoothed models.\n",
        "\n",
        "As for example, for the string 'Raj has a' the answers can be as below: \n",
        "\n",
        "(1) Raj has a **beautiful red car**\n",
        "\n",
        "(2) Raj has a **charismatic magnetic personality**"
      ]
    },
    {
      "cell_type": "code",
      "metadata": {
        "id": "qAGB1_S8NThy"
      },
      "source": [
        "testSent1 = \"There was a sudden jerk, a terrific convulsion of the limbs; and there he\"\n",
        "testSent2 = \"They made room for the stranger, but he sat down\"\n",
        "testSent3 = \"The hungry and destitute situation of the infant orphan was duly reported by\""
      ],
      "execution_count": null,
      "outputs": []
    },
    {
      "cell_type": "code",
      "metadata": {
        "id": "yLY1ymH-ZuJu",
        "colab": {
          "base_uri": "https://localhost:8080/"
        },
        "outputId": "6396ccd2-019d-410d-e239-062fad4e7b9e"
      },
      "source": [
        "# *** Write code ***\n",
        "\n",
        "def bigram_smoothed_model(unigrams_freqDist,bigrams_freqDist,testsent,numword):\n",
        "    prob = 0\n",
        "    testsent = testsent.lower()\n",
        "    prev_word = testsent.split(' ')[-1]\n",
        "    word = \"\"\n",
        "    next_word_list = []\n",
        "    for i in range(numword):\n",
        "        prob = 0\n",
        "        count_bigram = 0\n",
        "        for key, value in unigrams_freqDist.items():\n",
        "\n",
        "            bigrams = tuple((prev_word,key))\n",
        "            \n",
        "            if bigrams in bigrams_freqDist.keys():\n",
        "                count_bigram = bigrams_freqDist[bigrams]\n",
        "\n",
        "            temp_prob = (count_bigram + 1)/(count_bigram + len(unigrams_freqDist.keys()))\n",
        "\n",
        "            if temp_prob >= prob:\n",
        "                prob = temp_prob\n",
        "                word = key\n",
        "        next_word_list.append(word)\n",
        "        prev_word = word\n",
        "\n",
        "    return next_word_list\n",
        "\n",
        "def trigram_smoothed_model(unigrams_freqDist,trigrams_freqDist,testsent,numword):\n",
        "    prob = 0\n",
        "    testsent = testsent.lower()\n",
        "    prev_word = testsent.split(' ')[-1]\n",
        "    prev_to_prev_word = testsent.split(' ')[-2]\n",
        "    word = \"\"\n",
        "    next_word_list = []\n",
        "    for i in range(numword):\n",
        "        prob = 0\n",
        "        for key, value in unigrams_freqDist.items():\n",
        "\n",
        "            bigrams = tuple((prev_to_prev_word,prev_word))\n",
        "            trigrams = tuple((prev_to_prev_word,prev_word,key))\n",
        "            \n",
        "            if trigrams in trigrams_freqDist.keys():\n",
        "                count_trigram = trigrams_freqDist[trigrams]\n",
        "            else:\n",
        "                count_trigram = 0\n",
        "\n",
        "            if bigrams in bigrams_freqDist.keys():\n",
        "                count_bigram = bigrams_freqDist[bigrams]\n",
        "            else:\n",
        "                count_bigram = 0    \n",
        "\n",
        "            temp_prob = (count_trigram + 1)/(count_bigram + len(unigrams_freqDist.keys()))\n",
        "\n",
        "            if temp_prob >= prob:\n",
        "                prob = temp_prob\n",
        "                word = key\n",
        "        next_word_list.append(word)\n",
        "        prev_to_prev_word = prev_word\n",
        "        prev_word = word\n",
        "        \n",
        "    return next_word_list\n",
        "\n",
        "vector_of_testsent = []\n",
        "vector_of_testsent.append(testSent1)\n",
        "vector_of_testsent.append(testSent2)\n",
        "vector_of_testsent.append(testSent3)\n",
        "\n",
        "bigram_predicted_sentence = [\"\"]*(3)\n",
        "trigram_predicted_sentence = [\"\"]*(3)\n",
        "\n",
        "for i in range(len(vector_of_testsent)):\n",
        "\n",
        "    bigram_word_list = bigram_smoothed_model(unigrams_freqDist, bigrams_freqDist,vector_of_testsent[i],3)\n",
        "\n",
        "    print()\n",
        "    print(\"For testSent \" + str(i+1) + \": \")\n",
        "    bigram_predicted_sentence[i] = vector_of_testsent[i] + \" \"\n",
        "    for word in bigram_word_list:\n",
        "        bigram_predicted_sentence[i] = bigram_predicted_sentence[i] + word + \" \"\n",
        "    print(\"Bigram predicted sentence: \", bigram_predicted_sentence[i])\n",
        "\n",
        "    trigram_word_list = trigram_smoothed_model(unigrams_freqDist, trigrams_freqDist,vector_of_testsent[i],3)\n",
        "\n",
        "    trigram_predicted_sentence[i] = vector_of_testsent[i] + \" \"\n",
        "    for word in trigram_word_list:\n",
        "        trigram_predicted_sentence[i] = trigram_predicted_sentence[i] + word + \" \"\n",
        "    print(\"trigram predicted sentence: \", trigram_predicted_sentence[i])"
      ],
      "execution_count": null,
      "outputs": [
        {
          "output_type": "stream",
          "name": "stdout",
          "text": [
            "\n",
            "For testSent 1: \n",
            "Bigram predicted sentence:  There was a sudden jerk, a terrific convulsion of the limbs; and there he memoirs triumph triumph \n",
            "trigram predicted sentence:  There was a sudden jerk, a terrific convulsion of the limbs; and there he kept them . \n",
            "\n",
            "For testSent 2: \n",
            "Bigram predicted sentence:  They made room for the stranger, but he sat down chapter louder triumph \n",
            "trigram predicted sentence:  They made room for the stranger, but he sat down on triumph triumph \n",
            "\n",
            "For testSent 3: \n",
            "Bigram predicted sentence:  The hungry and destitute situation of the infant orphan was duly reported by s. triumph triumph \n",
            "trigram predicted sentence:  The hungry and destitute situation of the infant orphan was duly reported by the side of \n"
          ]
        }
      ]
    },
    {
      "cell_type": "markdown",
      "metadata": {
        "id": "rxfeaacTdO6h"
      },
      "source": [
        "Check the presence of these sentences in the original corpus at https://www.gutenberg.org/files/730/730-0.txt . How did your smoothed models perform in comparison to the original sentences? Compare them below.\n",
        "\n",
        "Did you notice something special about testSent3, in comparison to testSent1 and testSent2? If yes, what is it? Can you explain it?\n",
        "\n"
      ]
    },
    {
      "cell_type": "markdown",
      "metadata": {
        "id": "nFMkW9hKecxK"
      },
      "source": [
        "  - - - - - - - - - -\n",
        "  ** Answer here ** \n",
        "   - - - - - - - - - -"
      ]
    },
    {
      "cell_type": "markdown",
      "metadata": {
        "id": "vVBMcaAJXR9S"
      },
      "source": [
        "Which of the three models you generated above (unigram, bigram, trigram) is better in terms of **perplexity**, for the three test sentences (unseen data)? Write a piece of code to justify your answer. "
      ]
    },
    {
      "cell_type": "markdown",
      "metadata": {
        "id": "AAPa1OVZX8uN"
      },
      "source": [
        "  - - - - - - - - - -\n",
        "  ** Answer here ** \n",
        "   - - - - - - - - - -"
      ]
    },
    {
      "cell_type": "code",
      "metadata": {
        "colab": {
          "base_uri": "https://localhost:8080/"
        },
        "id": "K23Jq7LVQ1Kv",
        "outputId": "c31a70e9-afb8-41cb-f021-65790f614174"
      },
      "source": [
        "def perplexity(model, sentence):\n",
        "\n",
        "    probability = 1\n",
        "    perplexity = None\n",
        "    words = sentence.split(' ')\n",
        "    \n",
        "    if model == \"bigram\":\n",
        "        \n",
        "        for bigram in ngrams(word_tokenize(sentence),2):\n",
        "            if bigram not in bigrams_freqDist.keys():\n",
        "                count_bigram = 0\n",
        "            else:\n",
        "                count_bigram = bigrams_freqDist[bigram]\n",
        "\n",
        "            if bigram[0] not in unigrams_freqDist.keys():\n",
        "                count_unigram = 0\n",
        "            else:\n",
        "                count_unigram = unigrams_freqDist[bigram[0]]\n",
        "\n",
        "            probability = probability * ((count_bigram + 1) / (count_unigram + len(unigrams_freqDist)))\n",
        "\n",
        "        count = 0\n",
        "        for i in ngrams(word_tokenize(sentence),2) :\n",
        "          count = count + 1\n",
        "\n",
        "        perplexity = (1/probability) ** (1/(count))\n",
        "    \n",
        "    elif model == \"trigram\":\n",
        "        \n",
        "        for trigram in ngrams(word_tokenize(sentence),3):\n",
        "            \n",
        "            bigram = tuple((trigram[0], trigram[1]))\n",
        "            \n",
        "            if bigram not in bigrams_freqDist.keys():\n",
        "                count_bigram = 0\n",
        "            else:\n",
        "                count_bigram = bigrams_freqDist[bigram]\n",
        "\n",
        "            if trigram not in trigrams_freqDist.keys():\n",
        "                count_trigram = 0\n",
        "            else:\n",
        "                count_trigram = trigrams_freqDist[trigram]\n",
        "\n",
        "            probability = probability * ((count_trigram + 1) / (count_bigram + len(unigrams_freqDist)))\n",
        "\n",
        "        count = 0\n",
        "        for i in ngrams(word_tokenize(sentence),3) :\n",
        "          count = count + 1\n",
        "\n",
        "        perplexity = (1/probability) ** (1/count)\n",
        "\n",
        "    return perplexity\n",
        "\n",
        "\n",
        "for i in range(3):\n",
        "\n",
        "    print('*'*50)\n",
        "    print()\n",
        "    print('For testSent' + str(i+1))\n",
        "    print(\"Bigram predicted sentence: \", bigram_predicted_sentence[i])\n",
        "    print(\"Perplexity with bigram model: \", perplexity(\"bigram\", bigram_predicted_sentence[i]))\n",
        "    print(\"Trigram predicted sentence: \", trigram_predicted_sentence[i])\n",
        "    print(\"Perplexity with trigram model: \", perplexity(\"trigram\", trigram_predicted_sentence[i]))\n",
        "    print()\n",
        "    print('*'*50)\n",
        "\n"
      ],
      "execution_count": null,
      "outputs": [
        {
          "output_type": "stream",
          "name": "stdout",
          "text": [
            "**************************************************\n",
            "\n",
            "For testSent1\n",
            "Bigram predicted sentence:  There was a sudden jerk, a terrific convulsion of the limbs; and there he memoirs triumph triumph \n",
            "Perplexity with bigram model:  3531.7409393276016\n",
            "Trigram predicted sentence:  There was a sudden jerk, a terrific convulsion of the limbs; and there he kept them . \n",
            "Perplexity with trigram model:  3655.8953401384074\n",
            "\n",
            "**************************************************\n",
            "**************************************************\n",
            "\n",
            "For testSent2\n",
            "Bigram predicted sentence:  They made room for the stranger, but he sat down chapter louder triumph \n",
            "Perplexity with bigram model:  2520.908367882836\n",
            "Trigram predicted sentence:  They made room for the stranger, but he sat down on triumph triumph \n",
            "Perplexity with trigram model:  3171.498934354899\n",
            "\n",
            "**************************************************\n",
            "**************************************************\n",
            "\n",
            "For testSent3\n",
            "Bigram predicted sentence:  The hungry and destitute situation of the infant orphan was duly reported by s. triumph triumph \n",
            "Perplexity with bigram model:  2553.426072779447\n",
            "Trigram predicted sentence:  The hungry and destitute situation of the infant orphan was duly reported by the side of \n",
            "Perplexity with trigram model:  1904.183443365611\n",
            "\n",
            "**************************************************\n"
          ]
        }
      ]
    },
    {
      "cell_type": "markdown",
      "metadata": {
        "id": "fkDuQ-iTSj3G"
      },
      "source": [
        "If we look closely, the perplexity of the bigram model is always less than than of trigram, hence the bigram model is better"
      ]
    }
  ]
}